{
 "cells": [
  {
   "cell_type": "markdown",
   "metadata": {},
   "source": [
    "## Data"
   ]
  },
  {
   "cell_type": "code",
   "execution_count": 126,
   "metadata": {
    "collapsed": true
   },
   "outputs": [
    {
     "name": "stdout",
     "output_type": "stream",
     "text": [
      "Features: (3000, 784), Targets: (3000, 10)\n"
     ]
    }
   ],
   "source": [
    "import os\n",
    "import numpy as np\n",
    "\n",
    "def num_to_categorical(num):\n",
    "    categorical = [0.] * 10\n",
    "    categorical[num] = 1.\n",
    "    return categorical\n",
    "\n",
    "def categorical_to_num(categorical):\n",
    "    return list(categorical).index(1.)\n",
    "\n",
    "def load_data(data_type='Training'):\n",
    "    filepath_in = os.path.join('pset2', 'Pset2_{}_Data_Input.csv'.format(data_type))\n",
    "    filepath_out = os.path.join('pset2', 'Pset2_{}_Data_Output.csv'.format(data_type))\n",
    "    features = np.genfromtxt(filepath_in, delimiter=',')\n",
    "    targets = np.genfromtxt(filepath_out)\n",
    "    targets = targets.astype(int)\n",
    "    targets[targets == 10] = 0\n",
    "    if data_type == 'Training':\n",
    "        targets = np.array([num_to_categorical(target) for target in targets])\n",
    "    assert len(features) == len(targets)\n",
    "    return features, targets\n",
    "\n",
    "features, targets = load_data()\n",
    "print(\"Features: {}, Targets: {}\".format(features.shape, targets.shape))\n"
   ]
  },
  {
   "cell_type": "code",
   "execution_count": 12,
   "metadata": {},
   "outputs": [
    {
     "data": {
      "image/png": "[encoded data removed]",
      "text/plain": [
       "<Figure size 432x288 with 20 Axes>"
      ]
     },
     "metadata": {},
     "output_type": "display_data"
    }
   ],
   "source": [
    "% matplotlib inline\n",
    "from matplotlib import pyplot\n",
    "\n",
    "fig, axes = pyplot.subplots(2, 10)\n",
    "pyplot.subplots_adjust(hspace=0.001, wspace=0.1)\n",
    "\n",
    "for i, ax in enumerate(axes.flatten()):\n",
    "    ax.imshow(features[i].reshape([28, 28]).T)\n",
    "    ax.set_title(categorical_to_num(targets[i]))\n",
    "    ax.axis('off')\n"
   ]
  },
  {
   "cell_type": "markdown",
   "metadata": {},
   "source": [
    "## 1. Weight update rule derivation"
   ]
  },
  {
   "cell_type": "markdown",
   "metadata": {},
   "source": [
    "![backprop derivation](backprop-derivation.jpg \"Update rule\")"
   ]
  },
  {
   "cell_type": "markdown",
   "metadata": {},
   "source": [
    "## 2. Train with SGD"
   ]
  },
  {
   "cell_type": "code",
   "execution_count": 157,
   "metadata": {},
   "outputs": [],
   "source": [
    "import math\n",
    "\n",
    "import numpy as np\n",
    "\n",
    "def sigmoid(xs):\n",
    "    return np.array([1 / (1 + math.exp(-x)) for x in xs])\n",
    "\n",
    "class Net(object):\n",
    "    def __init__(self, num_input, num_hidden, num_output, seed=0):\n",
    "        np.random.seed(seed)\n",
    "        # go from (input + 1) to (hidden). +1 to add the bias term\n",
    "        self.w_xh = self.initialize(num_input + 1, num_hidden)\n",
    "        # go from (hidden + 1) to (output). +1 to add the bias term\n",
    "        self.w_hy = self.initialize(num_hidden + 1, num_output)\n",
    "\n",
    "    def initialize(self, num_in, num_out):\n",
    "        return np.random.rand(num_in, num_out) - 0.5\n",
    "\n",
    "    def __call__(self, x):\n",
    "        x = np.concatenate((x, [1.]))  # add 1-input for bias term\n",
    "        net_h = np.dot(self.w_xh.T, x)  # dot product = sum(w_ij * x_i)\n",
    "        h = sigmoid(net_h)\n",
    "        h = np.concatenate((h, [1.]))  # add 1-input for bias term\n",
    "        net_y = np.dot(self.w_hy.T, h)  # dot product = sum(w_ij * h_i)\n",
    "        y = sigmoid(net_y)\n",
    "        return y, net_y, h, net_h, x\n",
    "\n",
    "    def predict(self, x):\n",
    "        y, net_y, h, net_h, x = self(x)\n",
    "        return np.argmax(y)  # winner-take-all: return the maximum value position\n",
    "\n",
    "    def train_epochs(self, X, targets, num_epochs, learning_rate=0.01):\n",
    "        for epoch in range(1, num_epochs + 1):\n",
    "            yield list(self.train_epoch(X, targets, learning_rate=learning_rate))\n",
    "\n",
    "    def train_epoch(self, X, targets, learning_rate):\n",
    "        assert len(X) == len(targets)\n",
    "        sampling = np.random.choice(len(X), len(X), replace=False)\n",
    "        for sample in sampling:\n",
    "            yield np.mean(self.train_sample(X[sample], targets[sample], learning_rate=learning_rate))\n",
    "\n",
    "    def train_sampling(self, X, targets, num_samples, learning_rate=0.01):\n",
    "        assert len(X) == len(targets)\n",
    "        for sample_num in range(num_samples):\n",
    "            sample = np.random.choice(len(X), replace=True)\n",
    "            sample_error = np.mean(self.train_sample(X[sample], targets[sample], learning_rate=learning_rate))\n",
    "            yield sample_error\n",
    "\n",
    "    def train_sample(self, x, target, learning_rate):\n",
    "        y, net_y, h, net_h, x = self(x)\n",
    "        # compute loss\n",
    "        error = np.power(target - y, 2)\n",
    "\n",
    "        # update weights layer 2 (h -> y)\n",
    "        # for i, j in itertools.product(range(self.w_xh.shape[0]), range(self.w_xh.shape[1])):\n",
    "        #     self.w_xh[i, j] += - learning_rate * x[i] * h[j] * (1 - h[j]) * \\\n",
    "        #                      np.sum([self.w_hy[j, l] * (y[l] - target[l]) * y[l] * (1 - y[l]) for l in range(len(y))])\n",
    "        # we can re-write the above element-wise update using matrices and the element-wise Hadamard product:\n",
    "        error_derivative = (y - target) * y * (1 - y)\n",
    "        d_w_xh = np.expand_dims(x, 1) * np.expand_dims(h[:self.w_xh.shape[1]] * (1 - h[:self.w_xh.shape[1]]), 1).T \\\n",
    "                 * np.sum(self.w_hy[:self.w_xh.shape[1]] * error_derivative, axis=1)\n",
    "\n",
    "        # update weights layer 1 (x -> h). copying everything from (1)\n",
    "        # for i, j in itertools.product(range(self.w_hy.shape[0]), range(self.w_hy.shape[1])):\n",
    "        #     self.w_hy[i, j] += - learning_rate * h[i] * (y[j] - target[j]) * y[j] * (1 - y[j])\n",
    "        # re-write with matrices:\n",
    "        d_w_hy = np.expand_dims(h, 1) * np.expand_dims(error_derivative, 1).T\n",
    "        self.update_weights(d_w_xh, d_w_hy, learning_rate=learning_rate)\n",
    "        return error\n",
    "\n",
    "    def update_weights(self, d_w_xh, d_w_hy, learning_rate):\n",
    "        self.w_xh += -learning_rate * d_w_xh\n",
    "        self.w_hy += -learning_rate * d_w_hy\n",
    "\n",
    "    def accuracy(self, X, targets):\n",
    "        predictions = np.array([net.predict(x) for x in X])\n",
    "        correct = [prediction == target for prediction, target in zip(predictions, targets)]\n",
    "        return sum(correct) / len(correct)\n"
   ]
  },
  {
   "cell_type": "code",
   "execution_count": 127,
   "metadata": {},
   "outputs": [],
   "source": [
    "def normalize(x, mean=None, std=None):\n",
    "    # pre-process: normalize to mean and stddev\n",
    "    mean = mean if mean is not None else np.mean(x, axis=0)\n",
    "    std = std if std is not None else np.std(x, axis=0)\n",
    "    std[std == 0] = 1  # ignore zero-variance dimensions\n",
    "    return (x - mean) / std, mean, std\n"
   ]
  },
  {
   "cell_type": "code",
   "execution_count": 131,
   "metadata": {},
   "outputs": [
    {
     "data": {
      "text/plain": [
       "<matplotlib.legend.Legend at 0x7ff2549f7a90>"
      ]
     },
     "execution_count": 130,
     "metadata": {},
     "output_type": "execute_result"
    },
    {
     "data": {
      "image/png": "[encoded data removed]",
      "text/plain": [
       "<matplotlib.figure.Figure at 0x7ff26faeb710>"
      ]
     },
     "metadata": {},
     "output_type": "display_data"
    }
   ],
   "source": [
    "% matplotlib inline\n",
    "from matplotlib import pyplot\n",
    "\n",
    "# dev_features, features_mean, features_std = normalize(features)\n",
    "dev_features = features\n",
    "\n",
    "# split into training and validation to visualize generalization error\n",
    "training_split = 0.9\n",
    "training_samples = np.random.choice(len(dev_features), int(len(dev_features) * training_split), replace=False)\n",
    "validation_samples = list(set(list(range(len(dev_features)))) - set(training_samples))\n",
    "training_features, training_targets = dev_features[training_samples], targets[training_samples]\n",
    "validation_features, validation_targets = dev_features[validation_samples], targets[validation_samples]\n",
    "validation_targets = [categorical_to_num(t) for t in validation_targets]\n",
    "\n",
    "# train with training samples, measure validation accuracy\n",
    "net = Net(num_input=dev_features.shape[1], num_hidden=50, num_output=training_targets.shape[1])\n",
    "train_epoch_errors, train_sample_errors, validation_accuracies = [], [], []\n",
    "for sample_errors in net.train_epochs(training_features, training_targets, num_epochs=50):\n",
    "    epoch_error = np.mean(sample_errors)\n",
    "    train_epoch_errors += [epoch_error] * len(sample_errors)\n",
    "    train_sample_errors += sample_errors\n",
    "    validation_accuracy = net.accuracy(validation_features, validation_targets)\n",
    "    validation_accuracies += [validation_accuracy] * len(sample_errors)\n",
    "\n",
    "# plot\n",
    "pyplot.plot(train_sample_errors)\n",
    "pyplot.plot(train_epoch_errors)\n",
    "pyplot.plot(validation_accuracies)\n",
    "pyplot.legend(['sample error', 'epoch error', 'validation accuracy'])\n"
   ]
  },
  {
   "cell_type": "markdown",
   "metadata": {},
   "source": [
    "## 3. Test on held-out data"
   ]
  },
  {
   "cell_type": "code",
   "execution_count": 131,
   "metadata": {},
   "outputs": [
    {
     "name": "stdout",
     "output_type": "stream",
     "text": [
      "Accuracy: 85.17%\n"
     ]
    }
   ],
   "source": [
    "test_features, test_targets = load_data(data_type='Test')\n",
    "# test_features, _, __ = normalize(test_features, features_mean, features_std)\n",
    "print(\"Accuracy: {:.2f}%\".format(100 * net.accuracy(test_features, test_targets)))\n"
   ]
  },
  {
   "cell_type": "markdown",
   "metadata": {},
   "source": [
    "## 4. Number of hidden nodes"
   ]
  },
  {
   "cell_type": "markdown",
   "metadata": {},
   "source": [
    "20 only gave me ~80% test performance, I chose 50 using a power-law interpolation between 785 and 10."
   ]
  },
  {
   "cell_type": "markdown",
   "metadata": {},
   "source": [
    "## 5. Run from different seeds"
   ]
  },
  {
   "cell_type": "code",
   "execution_count": 184,
   "metadata": {},
   "outputs": [
    {
     "name": "stdout",
     "output_type": "stream",
     "text": [
      "Seed: 299\n"
     ]
    },
    {
     "name": "stdout",
     "output_type": "stream",
     "text": [
      "Seed: 904\n"
     ]
    },
    {
     "name": "stdout",
     "output_type": "stream",
     "text": [
      "Seed: 247\n"
     ]
    },
    {
     "name": "stdout",
     "output_type": "stream",
     "text": [
      "Seed: 785\n"
     ]
    },
    {
     "name": "stdout",
     "output_type": "stream",
     "text": [
      "Seed: 483\n"
     ]
    },
    {
     "name": "stdout",
     "output_type": "stream",
     "text": [
      "Seed: 599\n"
     ]
    },
    {
     "name": "stdout",
     "output_type": "stream",
     "text": [
      "Seed: 968\n"
     ]
    },
    {
     "name": "stdout",
     "output_type": "stream",
     "text": [
      "Seed: 87\n"
     ]
    },
    {
     "name": "stdout",
     "output_type": "stream",
     "text": [
      "Seed: 709\n"
     ]
    },
    {
     "name": "stdout",
     "output_type": "stream",
     "text": [
      "Seed: 993\n"
     ]
    },
    {
     "name": "stdout",
     "output_type": "stream",
     "text": [
      "Seed: 951\n"
     ]
    },
    {
     "name": "stdout",
     "output_type": "stream",
     "text": [
      "Seed: 891\n"
     ]
    },
    {
     "name": "stdout",
     "output_type": "stream",
     "text": [
      "Seed: 119\n"
     ]
    },
    {
     "name": "stdout",
     "output_type": "stream",
     "text": [
      "Seed: 776\n"
     ]
    },
    {
     "name": "stdout",
     "output_type": "stream",
     "text": [
      "Seed: 953\n"
     ]
    },
    {
     "name": "stdout",
     "output_type": "stream",
     "text": [
      "Seed: 32\n"
     ]
    },
    {
     "name": "stdout",
     "output_type": "stream",
     "text": [
      "Seed: 813\n"
     ]
    },
    {
     "name": "stdout",
     "output_type": "stream",
     "text": [
      "Seed: 153\n"
     ]
    },
    {
     "name": "stdout",
     "output_type": "stream",
     "text": [
      "Seed: 831\n"
     ]
    },
    {
     "name": "stdout",
     "output_type": "stream",
     "text": [
      "Seed: 861\n"
     ]
    },
    {
     "data": {
      "image/png": "[encoded data removed]",
      "text/plain": [
       "<matplotlib.figure.Figure at 0x7ff25464e080>"
      ]
     },
     "metadata": {},
     "output_type": "display_data"
    }
   ],
   "source": [
    "% matplotlib inline\n",
    "from matplotlib import pyplot\n",
    "import random\n",
    "\n",
    "num_seeds = 20\n",
    "test_accuracies = []\n",
    "for _ in range(num_seeds):\n",
    "    seed = random.randint(0, 999)\n",
    "    print(\"Seed:\", seed)\n",
    "    net = Net(num_input=dev_features.shape[1], num_hidden=20, num_output=training_targets.shape[1], seed=seed)\n",
    "    list(net.train_epochs(training_features, training_targets, num_epochs=25))\n",
    "    test_acc = net.accuracy(test_features, test_targets)\n",
    "    test_accuracies.append(test_acc)\n",
    "pyplot.hist(test_accuracies)\n",
    "pyplot.show()\n"
   ]
  },
  {
   "cell_type": "markdown",
   "metadata": {},
   "source": [
    "Even from different initializations, we end up similarly high generalization performances.\n",
    "So the local minima we end up in are likely very similar to the global minima."
   ]
  },
  {
   "cell_type": "markdown",
   "metadata": {},
   "source": [
    "## 6. Momentum"
   ]
  },
  {
   "cell_type": "code",
   "execution_count": 176,
   "metadata": {},
   "outputs": [],
   "source": [
    "class MomentumNet(Net):\n",
    "    def __init__(self, beta, *args, **kwargs):\n",
    "        super(MomentumNet, self).__init__(*args, **kwargs)\n",
    "        # no momentum in the beginning\n",
    "        self.momentum_w_xh = 0\n",
    "        self.momentum_w_hy = 0\n",
    "        self.beta = beta\n",
    "\n",
    "    def update_weights(self, d_w_xh, d_w_hy, learning_rate):\n",
    "        # short-term memory with beta controlling the extent of the memory\n",
    "        self.momentum_w_xh = self.beta * self.momentum_w_xh + d_w_xh\n",
    "        self.momentum_w_hy = self.beta * self.momentum_w_hy + d_w_hy\n",
    "        super(MomentumNet, self).update_weights(d_w_xh=self.momentum_w_xh, d_w_hy=self.momentum_w_hy, \n",
    "                                                learning_rate=learning_rate)\n"
   ]
  },
  {
   "cell_type": "code",
   "execution_count": 175,
   "metadata": {},
   "outputs": [
    {
     "data": {
      "text/plain": [
       "<matplotlib.legend.Legend at 0x7ff24b462f28>"
      ]
     },
     "execution_count": 175,
     "metadata": {},
     "output_type": "execute_result"
    },
    {
     "data": {
      "image/png": "[encoded data removed]",
      "text/plain": [
       "<matplotlib.figure.Figure at 0x7ff24b462828>"
      ]
     },
     "metadata": {},
     "output_type": "display_data"
    }
   ],
   "source": [
    "import itertools\n",
    "\n",
    "def moving_average(a, n=3):\n",
    "    ret = np.cumsum(a, dtype=float)\n",
    "    ret[n:] = ret[n:] - ret[:-n]\n",
    "    return ret[n - 1:] / n\n",
    "\n",
    "errors = {}\n",
    "\n",
    "# momentum - note that zero momentum is just standard SGD\n",
    "for beta in [0, 0.5, 0.8, 0.9, 0.99, 0.999]:\n",
    "    momentum_net = MomentumNet(num_input=dev_features.shape[1], num_hidden=20, num_output=training_targets.shape[1], \n",
    "                               beta=beta)\n",
    "    errors['beta={}'.format(beta)] = list(itertools.chain(*momentum_net.train_epochs(training_features, training_targets, num_epochs=5)))\n",
    "\n",
    "for errs in errors.values():\n",
    "    pyplot.plot(moving_average(errs, n=500))\n",
    "pyplot.legend(list(errors.keys()))\n"
   ]
  },
  {
   "cell_type": "markdown",
   "metadata": {},
   "source": [
    "Momentum significantly speeds up training compared to standard SGD (beta=0).\n",
    "\n",
    "Higher values seem to help more initially but after 5 epochs, a beta of 0.9 seems to work the best.\n",
    "This is also the standard value used in practice.\n",
    "\n",
    "These results suggest that the error surface is quite smooth without strong bumps since an accelerated traversal down the gradient improves training speed.\n",
    "However, it is not a perfecttly smooth surface, otherwise higher beta values would always speed up training."
   ]
  },
  {
   "cell_type": "markdown",
   "metadata": {},
   "source": [
    "## 7. Overfitting with too many hidden nodes"
   ]
  },
  {
   "cell_type": "code",
   "execution_count": 178,
   "metadata": {},
   "outputs": [
    {
     "name": "stdout",
     "output_type": "stream",
     "text": [
      "0.852333333333\n"
     ]
    }
   ],
   "source": [
    "net = Net(num_input=dev_features.shape[1], num_hidden=250, num_output=training_targets.shape[1])\n",
    "list(net.train_epochs(training_features, training_targets, num_epochs=25))\n",
    "test_acc = net.accuracy(test_features, test_targets)\n",
    "print(test_acc)\n"
   ]
  },
  {
   "cell_type": "markdown",
   "metadata": {},
   "source": [
    "Even with a huge number of hidden nodes, it doesn't overfit.\n",
    "This hints at the train and test distribution being similar, i.e. training and test samples are so similar that an overfit train model performs well on the test data.\n",
    "\n",
    "Overfitting refers to when a model fits the training data so well that it doesn't generalize any more.\n",
    "The famous example for this is noisy sampling from a polynomial - an overparametrized model would perfectly fit the noise but won't generalize to any new samples."
   ]
  },
  {
   "cell_type": "markdown",
   "metadata": {},
   "source": [
    "## 8. Stability <> Plasticity"
   ]
  },
  {
   "cell_type": "markdown",
   "metadata": {},
   "source": [
    "Strategy: hold out one of the classes, train on the remaining 9 and show that the new class can still be learned afterwards BUT that this harms performance on the other 9 classes. \n",
    "Contrast this with training on all 10 classes from the beginning in 2./3."
   ]
  },
  {
   "cell_type": "code",
   "execution_count": 182,
   "metadata": {},
   "outputs": [
    {
     "name": "stdout",
     "output_type": "stream",
     "text": [
      "Performance on 9 numbers: 92.29%\n"
     ]
    },
    {
     "name": "stdout",
     "output_type": "stream",
     "text": [
      "Performance on 1 number: 95.33%\nPerformance on 9 numbers after training on left-out number: 4.17%\n"
     ]
    }
   ],
   "source": [
    "num_targets = [categorical_to_num(target) for target in targets]\n",
    "samples9 = [target in list(range(8)) for target in num_targets]\n",
    "samples1 = [not sample for sample in samples9]\n",
    "net = Net(num_input=dev_features.shape[1], num_hidden=25, num_output=training_targets.shape[1])\n",
    "features9, targets9 = dev_features[samples9], targets[samples9]\n",
    "features1, targets1 = dev_features[samples1], targets[samples1]\n",
    "targets9_num, targets1_num = [categorical_to_num(target) for target in targets9], [categorical_to_num(target) for target in targets1]\n",
    "# First, train on 9 digits\n",
    "list(net.train_epochs(features9, targets9, num_epochs=25))\n",
    "print(\"Performance on 9 numbers: {:.2f}%\".format(100 * net.accuracy(features9, targets9_num)))\n",
    "# Then, train on the remaining 1 digit\n",
    "list(net.train_epochs(features1, targets1, num_epochs=25))\n",
    "print(\"Performance on 1 number: {:.2f}%\".format(100 * net.accuracy(features1, targets1_num)))\n",
    "# Finally, show that performance on the first 9 digits has been harmed\n",
    "print(\"Performance on 9 numbers after training on left-out number: {:.2f}%\".format(100 * net.accuracy(features9, targets9_num)))"
   ]
  },
  {
   "cell_type": "markdown",
   "metadata": {},
   "source": [
    "When we train on 9 numbers, we achieve good performance on that data.\n",
    "However, when we then follow that up with training on the left-out digit, we achieve good performance on that digit too (plasticity) but we loose out on the performance on the original digits (missing stability).\n",
    "Training on all 10 digits from the beginning gives much better performance but we are often not in a case where we can train on all the data right away."
   ]
  }
 ],
 "metadata": {
  "kernelspec": {
   "display_name": "Python 2",
   "language": "python",
   "name": "python2"
  },
  "language_info": {
   "codemirror_mode": {
    "name": "ipython",
    "version": 2
   },
   "file_extension": ".py",
   "mimetype": "text/x-python",
   "name": "python",
   "nbconvert_exporter": "python",
   "pygments_lexer": "ipython2",
   "version": "2.7.6"
  }
 },
 "nbformat": 4,
 "nbformat_minor": 0
}
